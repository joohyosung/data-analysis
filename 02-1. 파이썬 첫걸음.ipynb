{
 "cells": [
  {
   "cell_type": "markdown",
   "id": "a278e818",
   "metadata": {},
   "source": [
    "## 출력하기"
   ]
  },
  {
   "cell_type": "markdown",
   "id": "befd3e4c",
   "metadata": {},
   "source": [
    "## 기본 출력\n",
    "* print(value1, value2, ..., )"
   ]
  },
  {
   "cell_type": "code",
   "execution_count": 2,
   "id": "28b939a6",
   "metadata": {
    "scrolled": false
   },
   "outputs": [
    {
     "name": "stdout",
     "output_type": "stream",
     "text": [
      "hello\n",
      "hello\n"
     ]
    }
   ],
   "source": [
    "# hello 출력하기\n",
    "print('hello')\n",
    "print(\"hello\")"
   ]
  },
  {
   "cell_type": "code",
   "execution_count": 3,
   "id": "1ab54b4c",
   "metadata": {
    "scrolled": true
   },
   "outputs": [
    {
     "name": "stdout",
     "output_type": "stream",
     "text": [
      "hello python\n"
     ]
    }
   ],
   "source": [
    "# hello, python 출력하기\n",
    "print('hello','python')"
   ]
  },
  {
   "cell_type": "code",
   "execution_count": 4,
   "id": "4d7c345d",
   "metadata": {
    "scrolled": false
   },
   "outputs": [
    {
     "name": "stdout",
     "output_type": "stream",
     "text": [
      "1+1= 2\n"
     ]
    }
   ],
   "source": [
    "# 계산식 출력하기 (1+1=2)\n",
    "print('1+1=',1+1)"
   ]
  },
  {
   "cell_type": "markdown",
   "id": "9b3f18a5",
   "metadata": {},
   "source": [
    "## 구분자 지정\n",
    "* print(value1, value2, ..., sep='구분자')"
   ]
  },
  {
   "cell_type": "code",
   "execution_count": 6,
   "id": "f2ea27d7",
   "metadata": {
    "scrolled": true
   },
   "outputs": [
    {
     "name": "stdout",
     "output_type": "stream",
     "text": [
      "hello,python\n"
     ]
    }
   ],
   "source": [
    "# ,로 구분 (hello,python)\n",
    "print('hello','python',sep=',')"
   ]
  },
  {
   "cell_type": "code",
   "execution_count": 7,
   "id": "559d303f",
   "metadata": {},
   "outputs": [
    {
     "name": "stdout",
     "output_type": "stream",
     "text": [
      "1+1=2\n"
     ]
    }
   ],
   "source": [
    "# 공백없이 붙여서 출력 (1+1=2)\n",
    "print('1+1=',1+1,sep='')"
   ]
  },
  {
   "cell_type": "markdown",
   "id": "d10cb4b0",
   "metadata": {},
   "source": [
    "## 끝문자 지정\n",
    "* print(value1, value2, ..., end='끝문자')"
   ]
  },
  {
   "cell_type": "code",
   "execution_count": 9,
   "id": "73802f50",
   "metadata": {},
   "outputs": [
    {
     "name": "stdout",
     "output_type": "stream",
     "text": [
      "안녕하세요 반갑습니다\n"
     ]
    }
   ],
   "source": [
    "# 공백으로 끝내기 (안녕하세요 반갑습니다)\n",
    "print('안녕하세요', end=' ')\n",
    "print('반갑습니다')\n"
   ]
  },
  {
   "cell_type": "code",
   "execution_count": 10,
   "id": "27b5e0d3",
   "metadata": {
    "scrolled": true
   },
   "outputs": [
    {
     "name": "stdout",
     "output_type": "stream",
     "text": [
      "안녕하세요!!반갑습니다!!"
     ]
    }
   ],
   "source": [
    "# !!로 끝내기(안녕하세요!!반갑습니다!!)\n",
    "print('안녕하세요', end='!!')\n",
    "print('반갑습니다', end='!!')"
   ]
  },
  {
   "cell_type": "markdown",
   "id": "5f474d34",
   "metadata": {},
   "source": [
    "## 여러 줄 한번에 출력하기\n",
    "\n",
    "* 홑따옴표 세개(''') 혹은 쌍따옴표 세개(\"\"\")로 묶는다.\n"
   ]
  },
  {
   "cell_type": "code",
   "execution_count": 11,
   "id": "9c14c538",
   "metadata": {
    "scrolled": true
   },
   "outputs": [
    {
     "name": "stdout",
     "output_type": "stream",
     "text": [
      "자세히 보아야 예쁘다.\n",
      "오래 보아야 사랑스럽다.\n",
      "너도 그렇다.\n"
     ]
    }
   ],
   "source": [
    "print('자세히 보아야 예쁘다.')\n",
    "print('오래 보아야 사랑스럽다.')\n",
    "print('너도 그렇다.')"
   ]
  },
  {
   "cell_type": "code",
   "execution_count": 12,
   "id": "9ae244f2",
   "metadata": {},
   "outputs": [
    {
     "name": "stdout",
     "output_type": "stream",
     "text": [
      "\n",
      "자세히 보아야 예쁘다.\n",
      "오래 보아야 사랑스럽다.\n",
      "너도 그렇다.\n",
      "\n"
     ]
    }
   ],
   "source": [
    "print('''\n",
    "자세히 보아야 예쁘다.\n",
    "오래 보아야 사랑스럽다.\n",
    "너도 그렇다.\n",
    "''')"
   ]
  },
  {
   "cell_type": "code",
   "execution_count": 13,
   "id": "7ad41ad9",
   "metadata": {},
   "outputs": [
    {
     "name": "stdout",
     "output_type": "stream",
     "text": [
      "\n",
      "자세히 보아야 예쁘다.\n",
      "오래 보아야 사랑스럽다.\n",
      "너도 그렇다.\n",
      "\n"
     ]
    }
   ],
   "source": [
    "print(\"\"\"\n",
    "자세히 보아야 예쁘다.\n",
    "오래 보아야 사랑스럽다.\n",
    "너도 그렇다.\n",
    "\"\"\")"
   ]
  },
  {
   "cell_type": "markdown",
   "id": "aae556a5",
   "metadata": {},
   "source": [
    "# 주석달기\n",
    "* 프로그램에 대한 설명을 적을 때, 코드의 실행을 잠시 막아둘 때 주석을 사용한다.\n",
    "* 파이썬에서는 샵('#') 을 주석 기호로 사용한다."
   ]
  },
  {
   "cell_type": "code",
   "execution_count": 18,
   "id": "7e1ae2bb",
   "metadata": {
    "scrolled": true
   },
   "outputs": [
    {
     "name": "stdout",
     "output_type": "stream",
     "text": [
      "1\n",
      "3\n"
     ]
    }
   ],
   "source": [
    "## 주석에 대한 코드입니다##\n",
    "print(1) # 주석\n",
    "#print(2)  \n",
    "print(3)"
   ]
  },
  {
   "cell_type": "markdown",
   "id": "a23859bb",
   "metadata": {},
   "source": [
    "# 들여쓰기\n",
    "* 파이썬에서는 들여쓰기 자체가 문법입니다.\n",
    "* 파이썬 들여쓰기 방법은 공백2칸, 공백4칸 등 여러가지 방법이 있지만 보통 공백 4칸을 사용합니다."
   ]
  },
  {
   "cell_type": "code",
   "execution_count": 21,
   "id": "b0ee5746",
   "metadata": {
    "scrolled": false
   },
   "outputs": [
    {
     "ename": "IndentationError",
     "evalue": "unexpected indent (<ipython-input-21-ec46ed62a343>, line 2)",
     "output_type": "error",
     "traceback": [
      "\u001b[1;36m  File \u001b[1;32m\"<ipython-input-21-ec46ed62a343>\"\u001b[1;36m, line \u001b[1;32m2\u001b[0m\n\u001b[1;33m    print('hello2')\u001b[0m\n\u001b[1;37m    ^\u001b[0m\n\u001b[1;31mIndentationError\u001b[0m\u001b[1;31m:\u001b[0m unexpected indent\n"
     ]
    }
   ],
   "source": [
    "print('hello1')\n",
    " print('hello2')"
   ]
  },
  {
   "cell_type": "markdown",
   "id": "a865ff27",
   "metadata": {},
   "source": [
    "# 오류 해석하기"
   ]
  },
  {
   "cell_type": "markdown",
   "id": "93954768",
   "metadata": {},
   "source": [
    "## 파이썬에서는 대소문자를 구분한다."
   ]
  },
  {
   "cell_type": "code",
   "execution_count": 22,
   "id": "f85d5dce",
   "metadata": {
    "scrolled": false
   },
   "outputs": [
    {
     "ename": "NameError",
     "evalue": "name 'Print' is not defined",
     "output_type": "error",
     "traceback": [
      "\u001b[1;31m---------------------------------------------------------------------------\u001b[0m",
      "\u001b[1;31mNameError\u001b[0m                                 Traceback (most recent call last)",
      "\u001b[1;32m<ipython-input-22-e965a2e3f2d1>\u001b[0m in \u001b[0;36m<module>\u001b[1;34m\u001b[0m\n\u001b[1;32m----> 1\u001b[1;33m \u001b[0mPrint\u001b[0m\u001b[1;33m(\u001b[0m\u001b[1;34m'hello'\u001b[0m\u001b[1;33m)\u001b[0m\u001b[1;33m\u001b[0m\u001b[1;33m\u001b[0m\u001b[0m\n\u001b[0m",
      "\u001b[1;31mNameError\u001b[0m: name 'Print' is not defined"
     ]
    }
   ],
   "source": [
    "Print('hello')"
   ]
  },
  {
   "cell_type": "markdown",
   "id": "042086d2",
   "metadata": {},
   "source": [
    "## 따옴표의 짝이 맞아야 한다."
   ]
  },
  {
   "cell_type": "code",
   "execution_count": 24,
   "id": "ebd3fcf4",
   "metadata": {},
   "outputs": [
    {
     "ename": "SyntaxError",
     "evalue": "EOL while scanning string literal (<ipython-input-24-d4eab85c1ef4>, line 1)",
     "output_type": "error",
     "traceback": [
      "\u001b[1;36m  File \u001b[1;32m\"<ipython-input-24-d4eab85c1ef4>\"\u001b[1;36m, line \u001b[1;32m1\u001b[0m\n\u001b[1;33m    print('hello'')\u001b[0m\n\u001b[1;37m                   ^\u001b[0m\n\u001b[1;31mSyntaxError\u001b[0m\u001b[1;31m:\u001b[0m EOL while scanning string literal\n"
     ]
    }
   ],
   "source": [
    "print('hello'')"
   ]
  },
  {
   "cell_type": "markdown",
   "id": "40331128",
   "metadata": {},
   "source": [
    "## 괄호의 짝이 맞아야 한다."
   ]
  },
  {
   "cell_type": "code",
   "execution_count": 26,
   "id": "2dbe3b9d",
   "metadata": {
    "scrolled": false
   },
   "outputs": [
    {
     "ename": "SyntaxError",
     "evalue": "closing parenthesis '}' does not match opening parenthesis '(' (<ipython-input-26-fec23c177ea7>, line 1)",
     "output_type": "error",
     "traceback": [
      "\u001b[1;36m  File \u001b[1;32m\"<ipython-input-26-fec23c177ea7>\"\u001b[1;36m, line \u001b[1;32m1\u001b[0m\n\u001b[1;33m    print('hello'}\u001b[0m\n\u001b[1;37m                 ^\u001b[0m\n\u001b[1;31mSyntaxError\u001b[0m\u001b[1;31m:\u001b[0m closing parenthesis '}' does not match opening parenthesis '('\n"
     ]
    }
   ],
   "source": [
    "print('hello'}"
   ]
  },
  {
   "cell_type": "code",
   "execution_count": null,
   "id": "dd7c3cf9",
   "metadata": {},
   "outputs": [],
   "source": []
  }
 ],
 "metadata": {
  "kernelspec": {
   "display_name": "Python 3",
   "language": "python",
   "name": "python3"
  },
  "language_info": {
   "codemirror_mode": {
    "name": "ipython",
    "version": 3
   },
   "file_extension": ".py",
   "mimetype": "text/x-python",
   "name": "python",
   "nbconvert_exporter": "python",
   "pygments_lexer": "ipython3",
   "version": "3.8.8"
  },
  "toc": {
   "base_numbering": 1,
   "nav_menu": {},
   "number_sections": true,
   "sideBar": true,
   "skip_h1_title": false,
   "title_cell": "Table of Contents",
   "title_sidebar": "Contents",
   "toc_cell": false,
   "toc_position": {
    "height": "calc(100% - 180px)",
    "left": "10px",
    "top": "150px",
    "width": "266.075px"
   },
   "toc_section_display": true,
   "toc_window_display": true
  }
 },
 "nbformat": 4,
 "nbformat_minor": 5
}
