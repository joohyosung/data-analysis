{
 "cells": [
  {
   "cell_type": "markdown",
   "id": "77d0bc18",
   "metadata": {},
   "source": [
    "# 변수 만들기"
   ]
  },
  {
   "cell_type": "markdown",
   "id": "cebe1af8",
   "metadata": {},
   "source": [
    "## 변수에 값 할당하기\n",
    "* 변수명 = 변수값\n",
    "* 변수에 값이 할당될 때 변수값의 자료형에 따라 변수의 자료형이 결정된다."
   ]
  },
  {
   "cell_type": "code",
   "execution_count": 1,
   "id": "19694345",
   "metadata": {},
   "outputs": [],
   "source": [
    "name = 'james'\n",
    "age = 20\n",
    "height = 175.0\n",
    "ischild = age<20"
   ]
  },
  {
   "cell_type": "markdown",
   "id": "2ef34159",
   "metadata": {},
   "source": [
    "## 변수 값, 자료형 출력하기\n",
    "* 변수에 접근할 때는 변수명을 사용한다.\n",
    "* 변수값 출력 : print(변수명)\n",
    "* 변수자료형 출력 : print(type(변수명))"
   ]
  },
  {
   "cell_type": "code",
   "execution_count": 3,
   "id": "460ae4e9",
   "metadata": {},
   "outputs": [
    {
     "name": "stdout",
     "output_type": "stream",
     "text": [
      "james\n",
      "<class 'str'>\n"
     ]
    }
   ],
   "source": [
    "print(name)\n",
    "print(type(name))"
   ]
  },
  {
   "cell_type": "code",
   "execution_count": 4,
   "id": "07679f48",
   "metadata": {},
   "outputs": [
    {
     "name": "stdout",
     "output_type": "stream",
     "text": [
      "20\n",
      "<class 'int'>\n"
     ]
    }
   ],
   "source": [
    "print(age)\n",
    "print(type(age))"
   ]
  },
  {
   "cell_type": "code",
   "execution_count": 5,
   "id": "967a54a3",
   "metadata": {},
   "outputs": [
    {
     "name": "stdout",
     "output_type": "stream",
     "text": [
      "175.0\n",
      "<class 'float'>\n"
     ]
    }
   ],
   "source": [
    "print(height)\n",
    "print(type(height))"
   ]
  },
  {
   "cell_type": "code",
   "execution_count": 6,
   "id": "bfb0407c",
   "metadata": {},
   "outputs": [
    {
     "name": "stdout",
     "output_type": "stream",
     "text": [
      "False\n",
      "<class 'bool'>\n"
     ]
    }
   ],
   "source": [
    "print(ischild)\n",
    "print(type(ischild))"
   ]
  },
  {
   "cell_type": "markdown",
   "id": "1c775fe6",
   "metadata": {},
   "source": [
    "## 쌍따옴표나 홑따옴표가 포함되어 있는 문자열 사용하기"
   ]
  },
  {
   "cell_type": "markdown",
   "id": "e02d36fc",
   "metadata": {},
   "source": [
    "* 홑따옴표가 포함되어 있는 문자열 사용하기    \n",
    "'낮말'은 새가 듣고 '밤말'은 쥐가 듣는다."
   ]
  },
  {
   "cell_type": "code",
   "execution_count": 7,
   "id": "d496522a",
   "metadata": {
    "scrolled": true
   },
   "outputs": [
    {
     "name": "stdout",
     "output_type": "stream",
     "text": [
      "'낮말'은 새가 듣고 '밤말'은 쥐가 듣는다.\n"
     ]
    }
   ],
   "source": [
    "a = \"'낮말'은 새가 듣고 '밤말'은 쥐가 듣는다.\"\n",
    "print(a)"
   ]
  },
  {
   "cell_type": "markdown",
   "id": "96265369",
   "metadata": {},
   "source": [
    "* 쌍따옴표가 포함되어 있는 문자열 사용하기   \n",
    "\"시간은 금\"이라는 말이 있다."
   ]
  },
  {
   "cell_type": "code",
   "execution_count": 8,
   "id": "eb625632",
   "metadata": {
    "scrolled": false
   },
   "outputs": [
    {
     "name": "stdout",
     "output_type": "stream",
     "text": [
      "\"시간은 금\"이라는 말이 있다.\n"
     ]
    }
   ],
   "source": [
    "b = '\"시간은 금\"이라는 말이 있다.'\n",
    "print(b)"
   ]
  },
  {
   "cell_type": "markdown",
   "id": "d7a800eb",
   "metadata": {},
   "source": [
    "# 키보드로 변수에 값 입력받기\n",
    "* input( )\n",
    "* input으로 입력받은 값은 무조건 str"
   ]
  },
  {
   "cell_type": "code",
   "execution_count": 21,
   "id": "835fb10b",
   "metadata": {
    "scrolled": false
   },
   "outputs": [
    {
     "name": "stdout",
     "output_type": "stream",
     "text": [
      "나이:20\n"
     ]
    }
   ],
   "source": [
    "a = input('나이:')"
   ]
  },
  {
   "cell_type": "code",
   "execution_count": 22,
   "id": "fd6bbfc3",
   "metadata": {},
   "outputs": [
    {
     "data": {
      "text/plain": [
       "str"
      ]
     },
     "execution_count": 22,
     "metadata": {},
     "output_type": "execute_result"
    }
   ],
   "source": [
    "type(a)"
   ]
  },
  {
   "cell_type": "markdown",
   "id": "84fe07df",
   "metadata": {},
   "source": [
    "## 자료형 변환하기"
   ]
  },
  {
   "cell_type": "markdown",
   "id": "c858d0b1",
   "metadata": {},
   "source": [
    "* int(value) : int형으로 변환"
   ]
  },
  {
   "cell_type": "code",
   "execution_count": 24,
   "id": "2296adbd",
   "metadata": {
    "scrolled": true
   },
   "outputs": [
    {
     "data": {
      "text/plain": [
       "int"
      ]
     },
     "execution_count": 24,
     "metadata": {},
     "output_type": "execute_result"
    }
   ],
   "source": [
    "age = int('20')\n",
    "type(age)"
   ]
  },
  {
   "cell_type": "markdown",
   "id": "981a47a9",
   "metadata": {},
   "source": [
    "* str(value) : str형으로 변환"
   ]
  },
  {
   "cell_type": "code",
   "execution_count": 25,
   "id": "2f3e2224",
   "metadata": {},
   "outputs": [
    {
     "data": {
      "text/plain": [
       "str"
      ]
     },
     "execution_count": 25,
     "metadata": {},
     "output_type": "execute_result"
    }
   ],
   "source": [
    "age = str(20)\n",
    "type(age)"
   ]
  },
  {
   "cell_type": "markdown",
   "id": "9b74974f",
   "metadata": {},
   "source": [
    "* float(value) : float형으로 변환"
   ]
  },
  {
   "cell_type": "code",
   "execution_count": 27,
   "id": "6d9ef903",
   "metadata": {
    "scrolled": false
   },
   "outputs": [
    {
     "name": "stdout",
     "output_type": "stream",
     "text": [
      "20.0 <class 'float'>\n"
     ]
    }
   ],
   "source": [
    "age = float(20)\n",
    "print(age, type(age))"
   ]
  },
  {
   "cell_type": "markdown",
   "id": "fa001459",
   "metadata": {},
   "source": [
    "* input으로 입력받은 값을 숫자형으로 변환하여 사용하기"
   ]
  },
  {
   "cell_type": "code",
   "execution_count": 29,
   "id": "1f7cfab5",
   "metadata": {
    "scrolled": true
   },
   "outputs": [
    {
     "name": "stdout",
     "output_type": "stream",
     "text": [
      "나이:20\n"
     ]
    }
   ],
   "source": [
    "a = int(input('나이:'))"
   ]
  },
  {
   "cell_type": "code",
   "execution_count": 30,
   "id": "0ed91b06",
   "metadata": {},
   "outputs": [
    {
     "data": {
      "text/plain": [
       "int"
      ]
     },
     "execution_count": 30,
     "metadata": {},
     "output_type": "execute_result"
    }
   ],
   "source": [
    "type(a)"
   ]
  }
 ],
 "metadata": {
  "kernelspec": {
   "display_name": "Python 3",
   "language": "python",
   "name": "python3"
  },
  "language_info": {
   "codemirror_mode": {
    "name": "ipython",
    "version": 3
   },
   "file_extension": ".py",
   "mimetype": "text/x-python",
   "name": "python",
   "nbconvert_exporter": "python",
   "pygments_lexer": "ipython3",
   "version": "3.8.8"
  },
  "toc": {
   "base_numbering": 1,
   "nav_menu": {},
   "number_sections": true,
   "sideBar": true,
   "skip_h1_title": false,
   "title_cell": "Table of Contents",
   "title_sidebar": "Contents",
   "toc_cell": false,
   "toc_position": {
    "height": "calc(100% - 180px)",
    "left": "10px",
    "top": "150px",
    "width": "245.76px"
   },
   "toc_section_display": true,
   "toc_window_display": true
  }
 },
 "nbformat": 4,
 "nbformat_minor": 5
}
