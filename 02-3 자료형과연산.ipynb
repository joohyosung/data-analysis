{
 "cells": [
  {
   "cell_type": "markdown",
   "id": "9a4e92f7",
   "metadata": {},
   "source": [
    "# 산술연산"
   ]
  },
  {
   "cell_type": "code",
   "execution_count": 49,
   "id": "cf1132c4",
   "metadata": {
    "scrolled": true
   },
   "outputs": [
    {
     "name": "stdout",
     "output_type": "stream",
     "text": [
      "a+b= 7\n",
      "a-b= -1\n",
      "a*b= 12\n",
      "a/b= 0.75\n",
      "a//b= 0\n",
      "a%b= 3\n",
      "a**b= 81\n"
     ]
    }
   ],
   "source": [
    "a, b = 3,4\n",
    "\n",
    "print('a+b=',a+b)\n",
    "print('a-b=',a-b)\n",
    "print('a*b=',a*b)\n",
    "print('a/b=',a/b)\n",
    "print('a//b=',a//b)\n",
    "print('a%b=',a%b)\n",
    "print('a**b=',a**b)\n"
   ]
  },
  {
   "cell_type": "markdown",
   "id": "0fef24d6",
   "metadata": {},
   "source": [
    "# 문자열연산"
   ]
  },
  {
   "cell_type": "code",
   "execution_count": 50,
   "id": "8a61d7aa",
   "metadata": {},
   "outputs": [
    {
     "data": {
      "text/plain": [
       "'goodmorning'"
      ]
     },
     "execution_count": 50,
     "metadata": {},
     "output_type": "execute_result"
    }
   ],
   "source": [
    "# 문자열 더하기(문자열 연결하기)\n",
    "a = 'good'\n",
    "b = 'morning'\n",
    "a+b"
   ]
  },
  {
   "cell_type": "code",
   "execution_count": 51,
   "id": "752b9082",
   "metadata": {},
   "outputs": [
    {
     "data": {
      "text/plain": [
       "'hahaha'"
      ]
     },
     "execution_count": 51,
     "metadata": {},
     "output_type": "execute_result"
    }
   ],
   "source": [
    "# 문자열 곱하기(문자열 반복하기) \n",
    "s = 'ha'\n",
    "s * 3"
   ]
  },
  {
   "cell_type": "code",
   "execution_count": 54,
   "id": "012b4951",
   "metadata": {},
   "outputs": [
    {
     "name": "stdout",
     "output_type": "stream",
     "text": [
      "영어점수80\n"
     ]
    }
   ],
   "source": [
    "# 문자열과 숫자형 더하기\n",
    "english = 80\n",
    "result = '영어점수'+ str(english)\n",
    "print(result)"
   ]
  },
  {
   "cell_type": "markdown",
   "id": "8ba600bc",
   "metadata": {},
   "source": [
    "# 할당 연산자"
   ]
  },
  {
   "cell_type": "code",
   "execution_count": 33,
   "id": "0277e360",
   "metadata": {},
   "outputs": [],
   "source": [
    "a = 1"
   ]
  },
  {
   "cell_type": "code",
   "execution_count": 56,
   "id": "3403e102",
   "metadata": {},
   "outputs": [
    {
     "name": "stdout",
     "output_type": "stream",
     "text": [
      "1 1 1\n"
     ]
    }
   ],
   "source": [
    "# a,b,c에 모두 1할당\n",
    "a = b = c = 1\n",
    "print(a,b,c)"
   ]
  },
  {
   "cell_type": "code",
   "execution_count": 57,
   "id": "a06e897e",
   "metadata": {},
   "outputs": [
    {
     "name": "stdout",
     "output_type": "stream",
     "text": [
      "1 2 3\n"
     ]
    }
   ],
   "source": [
    "# a,b,c에 각각 1,2,3 할당\n",
    "a,b,c = 1,2,3\n",
    "print(a,b,c)"
   ]
  },
  {
   "cell_type": "markdown",
   "id": "90fbab11",
   "metadata": {},
   "source": [
    "# 복합 할당 연산자"
   ]
  },
  {
   "cell_type": "code",
   "execution_count": 58,
   "id": "3280f53a",
   "metadata": {},
   "outputs": [
    {
     "name": "stdout",
     "output_type": "stream",
     "text": [
      "30\n"
     ]
    }
   ],
   "source": [
    "x = 10\n",
    "x += 20  # x = x+20 = 10 + 20 = 30\n",
    "print(x)"
   ]
  },
  {
   "cell_type": "code",
   "execution_count": 59,
   "id": "a61a5197",
   "metadata": {},
   "outputs": [
    {
     "name": "stdout",
     "output_type": "stream",
     "text": [
      "24\n"
     ]
    }
   ],
   "source": [
    "x = 3\n",
    "y = 5\n",
    "x *= x+y   # x = x * (x+y) = 3 * (3 + 5) = 24\n",
    "print(x)"
   ]
  },
  {
   "cell_type": "markdown",
   "id": "84b14555",
   "metadata": {},
   "source": [
    "# f스트링으로 출력하기"
   ]
  },
  {
   "cell_type": "code",
   "execution_count": 60,
   "id": "c9dd0bfc",
   "metadata": {
    "scrolled": true
   },
   "outputs": [
    {
     "name": "stdout",
     "output_type": "stream",
     "text": [
      "이름:james\n",
      "james 님, 안녕하세요?\n"
     ]
    }
   ],
   "source": [
    "name = input('이름:')\n",
    "print(name,'님, 안녕하세요?')"
   ]
  },
  {
   "cell_type": "code",
   "execution_count": 61,
   "id": "61fc1989",
   "metadata": {},
   "outputs": [
    {
     "name": "stdout",
     "output_type": "stream",
     "text": [
      "james님 안녕하세요\n"
     ]
    }
   ],
   "source": [
    "print(f'{name}님 안녕하세요')"
   ]
  },
  {
   "cell_type": "code",
   "execution_count": 62,
   "id": "f2db6d9b",
   "metadata": {},
   "outputs": [
    {
     "name": "stdout",
     "output_type": "stream",
     "text": [
      "나이:20\n",
      "나이는 20 살이시군요. 내년이면 21 살이 되시겠네요\n"
     ]
    }
   ],
   "source": [
    "age = int(input('나이:'))\n",
    "print('나이는',age,'살이시군요. 내년이면',age+1,'살이 되시겠네요')"
   ]
  },
  {
   "cell_type": "code",
   "execution_count": 63,
   "id": "6a128b1d",
   "metadata": {
    "scrolled": true
   },
   "outputs": [
    {
     "name": "stdout",
     "output_type": "stream",
     "text": [
      "나이는 20살이시군요. 내년이면 21살이 되시겠네요\n"
     ]
    }
   ],
   "source": [
    "print(f'나이는 {age}살이시군요. 내년이면 {age+1}살이 되시겠네요')"
   ]
  },
  {
   "cell_type": "markdown",
   "id": "bda4411e",
   "metadata": {},
   "source": [
    "* 두 수를 입력받아 더하는 프로그램을 작성하기"
   ]
  },
  {
   "cell_type": "code",
   "execution_count": 64,
   "id": "394c3bf6",
   "metadata": {
    "scrolled": false
   },
   "outputs": [
    {
     "name": "stdout",
     "output_type": "stream",
     "text": [
      "첫번째숫자:1\n",
      "두번째숫자:3\n",
      "1 + 3 = 4\n"
     ]
    }
   ],
   "source": [
    "a = int(input('첫번째숫자:'))\n",
    "b = int(input('두번째숫자:'))\n",
    "\n",
    "print(a,'+',b,'=',a+b)"
   ]
  },
  {
   "cell_type": "code",
   "execution_count": 65,
   "id": "5f72eeec",
   "metadata": {},
   "outputs": [
    {
     "name": "stdout",
     "output_type": "stream",
     "text": [
      "1+3=4\n"
     ]
    }
   ],
   "source": [
    "print(f'{a}+{b}={a+b}')"
   ]
  },
  {
   "cell_type": "markdown",
   "id": "6a6868f5",
   "metadata": {},
   "source": [
    "# 연습문제"
   ]
  },
  {
   "cell_type": "markdown",
   "id": "dc0185f3",
   "metadata": {},
   "source": [
    "* 화씨 온도를 입력받아 섭씨 온도로 변환하는 프로그램을 작성해보세요.   \n",
    "$ C = (F - 32) * \\frac{5}{9}$"
   ]
  },
  {
   "cell_type": "code",
   "execution_count": 67,
   "id": "b1052d3c",
   "metadata": {
    "scrolled": true
   },
   "outputs": [
    {
     "name": "stdout",
     "output_type": "stream",
     "text": [
      "화씨온도:100\n",
      "화씨온도:100.0 --> 섭씨온도:37.77777777777778\n"
     ]
    }
   ],
   "source": [
    "# 화씨온도 입력\n",
    "f = float(input('화씨온도:'))\n",
    "\n",
    "# 섭씨온도로 계산\n",
    "c = (f - 32) * (5/9)\n",
    "\n",
    "# 결과 출력\n",
    "print(f'화씨온도:{f} --> 섭씨온도:{c}')\n"
   ]
  }
 ],
 "metadata": {
  "kernelspec": {
   "display_name": "Python 3",
   "language": "python",
   "name": "python3"
  },
  "language_info": {
   "codemirror_mode": {
    "name": "ipython",
    "version": 3
   },
   "file_extension": ".py",
   "mimetype": "text/x-python",
   "name": "python",
   "nbconvert_exporter": "python",
   "pygments_lexer": "ipython3",
   "version": "3.8.8"
  },
  "toc": {
   "base_numbering": 1,
   "nav_menu": {},
   "number_sections": true,
   "sideBar": true,
   "skip_h1_title": false,
   "title_cell": "Table of Contents",
   "title_sidebar": "Contents",
   "toc_cell": false,
   "toc_position": {},
   "toc_section_display": true,
   "toc_window_display": true
  }
 },
 "nbformat": 4,
 "nbformat_minor": 5
}
